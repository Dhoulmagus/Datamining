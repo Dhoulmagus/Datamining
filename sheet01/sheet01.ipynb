{
 "cells": [
  {
   "cell_type": "markdown",
   "id": "c2e647a4",
   "metadata": {},
   "source": [
    "# Exercise Sheet 01: Data preprocessing, visualization, correlation, statistical testing, and modeling\n",
    "\n",
    "**Introduction to Data Mining WS23/24**  \n",
    "**Bielefeld University**  \n",
    "**Alina Deriyeva, Benjamin Paaßen**  \n",
    "**Exercise Sheet Publication Date: 2023-10-23**  \n",
    "**Exercise Sheet Submission Deadline: 2023-11-03, noon (i.e. 12:00), via git or e-mail to aderiyeva@techfak.uni-bielefeld.de**\n",
    "\n",
    "**NOTE** The use of language models/AI tools is permitted IF you notify us of the use (just indicate it in the respective task) and are still able to understand and present your results. We also appreciate it if you link to a chatlog of the interaction with the language model/AI tool so that we can understand better how students tend to use these tools."
   ]
  },
  {
   "cell_type": "markdown",
   "id": "9f8967b8",
   "metadata": {},
   "source": [
    "Von: Vincent Keuch"
   ]
  },
  {
   "cell_type": "markdown",
   "id": "2591c02c",
   "metadata": {},
   "source": [
    "## Preamble: Data set\n",
    "\n",
    "In this exercise sheet, we investigate first data exploration activities that can be performed on typical, tabular data sets, up to simple statistical testing.\n",
    "\n",
    "The file `sheet01_data.csv` contains fictional data as might be produced in an educational study. Each row represents a student participating in the study. The first column is just the student index, the second column indicates the experimental condition the student was in (`0` for control group, `1` for intervention group). The third column is the student's test result on a pre-test, the fourth column is the student's test result on a post-test.\n",
    "\n",
    "The following line loads this raw data and prints it."
   ]
  },
  {
   "cell_type": "code",
   "execution_count": 109,
   "id": "d0d93f7c",
   "metadata": {
    "ExecuteTime": {
     "end_time": "2023-11-02T21:08:42.239018400Z",
     "start_time": "2023-11-02T21:08:42.039413900Z"
    }
   },
   "outputs": [
    {
     "name": "stdout",
     "output_type": "stream",
     "text": [
      "[[  0.   0.  27.  40.]\n",
      " [  1.   0.  31.  34.]\n",
      " [  2.   0.  30.  nan]\n",
      " [  3.   0.  20.  nan]\n",
      " [  4.   0.  41.  54.]\n",
      " [  5.   0.  39.  51.]\n",
      " [  6.   0.  20.  33.]\n",
      " [  7.   0.  27.  36.]\n",
      " [  8.   0.  79.  83.]\n",
      " [  9.   0.  33.  46.]\n",
      " [ 10.   0.  22.  29.]\n",
      " [ 11.   0.  22.  41.]\n",
      " [ 12.   0.  29.  nan]\n",
      " [ 13.   0.  25.  nan]\n",
      " [ 14.   0.  41.  47.]\n",
      " [ 15.   0.  23.  36.]\n",
      " [ 16.   0.  17.  30.]\n",
      " [ 17.   0.  93. 100.]\n",
      " [ 18.   0.  34.  40.]\n",
      " [ 19.   0.  23.  27.]\n",
      " [ 20.   0.  48.  53.]\n",
      " [ 21.   0.  19.  26.]\n",
      " [ 22.   0.  28.  33.]\n",
      " [ 23.   0.  38.  46.]\n",
      " [ 24.   0.  22.  34.]\n",
      " [ 25.   0.  34.  45.]\n",
      " [ 26.   0.  36.  49.]\n",
      " [ 27.   0.  33.  47.]\n",
      " [ 28.   0.  40.  41.]\n",
      " [ 29.   0.  39.  52.]\n",
      " [ 30.   1.  24.  50.]\n",
      " [ 31.   1.  38.  62.]\n",
      " [ 32.   1.  34.  51.]\n",
      " [ 33.   1.  37.  nan]\n",
      " [ 34.   1.  31.  44.]\n",
      " [ 35.   1.  37.  57.]\n",
      " [ 36.   1.  25.  50.]\n",
      " [ 37.   1.  23.  37.]\n",
      " [ 38.   1.  12.  38.]\n",
      " [ 39.   1.  31.  56.]\n",
      " [ 40.   1.  36.  46.]\n",
      " [ 41.   1.  34.  48.]\n",
      " [ 42.   1.  85. 100.]\n",
      " [ 43.   1.  41.  59.]\n",
      " [ 44.   1.  14.  37.]\n",
      " [ 45.   1.   7.  29.]\n",
      " [ 46.   1.  30.  54.]\n",
      " [ 47.   1.  42.  62.]\n",
      " [ 48.   1.  25.  44.]\n",
      " [ 49.   1.  29.  53.]\n",
      " [ 50.   1.  17.  40.]\n",
      " [ 51.   1.  40.  63.]\n",
      " [ 52.   1.  29.  46.]\n",
      " [ 53.   1.  33.  nan]\n",
      " [ 54.   1.  24.  50.]\n",
      " [ 55.   1.  38.  53.]\n",
      " [ 56.   1.  26.  48.]\n",
      " [ 57.   1.  41.  nan]\n",
      " [ 58.   1.  37.  65.]\n",
      " [ 59.   1.  41.  61.]]\n"
     ]
    }
   ],
   "source": [
    "import numpy as np\n",
    "import matplotlib.pyplot as plt\n",
    "import scipy.stats\n",
    "\n",
    "Data = np.loadtxt('sheet01_data.csv', skiprows = 1, delimiter = '\\t')\n",
    "print(Data)"
   ]
  },
  {
   "cell_type": "markdown",
   "id": "4e93d467",
   "metadata": {},
   "source": [
    "### Task 01.01\n",
    "\n",
    "Write python code to automatically identify outliers, which are defined as any students with a pre-test score higher than 3 standard deviations above the mean. Write python code that removes these outliers from the data set."
   ]
  },
  {
   "cell_type": "code",
   "execution_count": 110,
   "id": "04b3b0e2",
   "metadata": {
    "tags": [],
    "ExecuteTime": {
     "end_time": "2023-11-02T21:08:42.389373500Z",
     "start_time": "2023-11-02T21:08:42.050910400Z"
    }
   },
   "outputs": [],
   "source": [
    "numberDataPre = 0\n",
    "meanPreScore = 0.\n",
    "stdDevPreScore = 0.\n",
    "\n",
    "\n",
    "#Calculate mean for the pre-test scores\n",
    "for student in Data:\n",
    "    if not np.isnan(student[2]):\n",
    "        numberDataPre += 1\n",
    "        meanPreScore += student[2]\n",
    "meanPreScore = meanPreScore / numberDataPre\n",
    "\n",
    "\n",
    "#Calculate standard deviation for the pre-test scores\n",
    "for student in Data:\n",
    "    if not np.isnan(student[2]):\n",
    "        stdDevPreScore += (student[2] - meanPreScore) ** 2\n",
    "stdDevPreScore = np.sqrt(stdDevPreScore / numberDataPre)\n",
    "\n",
    "\n",
    "#Remove outliers\n",
    "toRemove = []\n",
    "rowToRemove = 0\n",
    "for student in Data:\n",
    "    if not np.isnan(student[2]):\n",
    "        if 3. < abs((student[2] - meanPreScore) / stdDevPreScore):\n",
    "            toRemove.append(rowToRemove)\n",
    "    rowToRemove += 1\n",
    "\n",
    "Data = np.delete(Data, toRemove, axis=0)"
   ]
  },
  {
   "cell_type": "markdown",
   "id": "67a93666",
   "metadata": {},
   "source": [
    "Print how many points are left in the control group and the intervention group after outlier removal"
   ]
  },
  {
   "cell_type": "code",
   "execution_count": 111,
   "id": "3a11dc77",
   "metadata": {
    "ExecuteTime": {
     "end_time": "2023-11-02T21:08:42.567717400Z",
     "start_time": "2023-11-02T21:08:42.132156Z"
    }
   },
   "outputs": [
    {
     "name": "stdout",
     "output_type": "stream",
     "text": [
      "Intervention group: 29 points\n",
      "Control group: 28 points\n"
     ]
    }
   ],
   "source": [
    "numberIntervention = 0\n",
    "numberControl = 0\n",
    "\n",
    "for student in Data:\n",
    "    if student[1] == 1:\n",
    "        numberIntervention += 1\n",
    "    else:\n",
    "        numberControl += 1\n",
    "\n",
    "print(f\"Intervention group: {numberIntervention} points\")\n",
    "print(f\"Control group: {numberControl} points\")"
   ]
  },
  {
   "cell_type": "markdown",
   "id": "b4d3cbdb",
   "metadata": {},
   "source": [
    "### Task 01.02\n",
    "\n",
    "Write python code to compute the mean pre- and post-test score, as well as the respective standard deviation, of the control group and the intervention group. Be aware of nan values. Print the results."
   ]
  },
  {
   "cell_type": "code",
   "execution_count": 112,
   "id": "64cc8bb6",
   "metadata": {
    "ExecuteTime": {
     "end_time": "2023-11-02T21:08:42.597937600Z",
     "start_time": "2023-11-02T21:08:42.241017Z"
    }
   },
   "outputs": [
    {
     "name": "stdout",
     "output_type": "stream",
     "text": [
      "Pre-Test Intervention group: mean 30.20689655172414 standard deviation 9.147750092122058\n",
      "Post-Test Intervention group: mean 50.11538461538461 standard deviation 9.069504791319277\n",
      "Pre-Test Control group: mean 30.035714285714285 standard deviation 8.033332980495095\n",
      "Post-Test Control group: mean 40.416666666666664 standard deviation 8.396014266040497\n"
     ]
    }
   ],
   "source": [
    "numberPreInter = 0\n",
    "numberPreCont = 0\n",
    "numberPostInter = 0\n",
    "numberPostCont = 0\n",
    "\n",
    "meanPreInter = 0.\n",
    "meanPreCont = 0.\n",
    "meanPostInter = 0.\n",
    "meanPostCont = 0.\n",
    "\n",
    "stdDevPreInter = 0.\n",
    "stdDevPreCont = 0.\n",
    "stdDevPostInter = 0.\n",
    "stdDevPostCont = 0.\n",
    "\n",
    "\n",
    "#Calculate the respective means\n",
    "for student in Data:\n",
    "    if student[1] == 1:\n",
    "        if not np.isnan(student[2]):\n",
    "            numberPreInter += 1\n",
    "            meanPreInter += student[2]\n",
    "        if not np.isnan(student[3]):\n",
    "            numberPostInter += 1\n",
    "            meanPostInter += student[3]\n",
    "    else:\n",
    "        if not np.isnan(student[2]):\n",
    "            numberPreCont += 1\n",
    "            meanPreCont += student[2]\n",
    "        if not np.isnan(student[3]):\n",
    "            numberPostCont += 1\n",
    "            meanPostCont += student[3]\n",
    "\n",
    "meanPreInter = meanPreInter / numberPreInter\n",
    "meanPostInter = meanPostInter / numberPostInter\n",
    "meanPreCont = meanPreCont / numberPreCont\n",
    "meanPostCont = meanPostCont / numberPostCont\n",
    "\n",
    "\n",
    "#Calculate the respective standard deviation\n",
    "for student in Data:\n",
    "    if student[1] == 1:\n",
    "        if not np.isnan(student[2]):\n",
    "            stdDevPreInter += (student[2] - meanPreInter) ** 2\n",
    "        if not np.isnan(student[3]):\n",
    "            stdDevPostInter += (student[3] - meanPostInter) ** 2\n",
    "    else:\n",
    "        if not np.isnan(student[2]):\n",
    "            stdDevPreCont += (student[2] - meanPreCont) ** 2\n",
    "        if not np.isnan(student[3]):\n",
    "            stdDevPostCont += (student[3] - meanPostCont) ** 2\n",
    "\n",
    "stdDevPreInter = np.sqrt(stdDevPreInter / numberPreInter)\n",
    "stdDevPostInter = np.sqrt(stdDevPostInter / numberPostInter)\n",
    "stdDevPreCont = np.sqrt(stdDevPreCont / numberPreCont)\n",
    "stdDevPostCont = np.sqrt(stdDevPostCont / numberPostCont)\n",
    "\n",
    "\n",
    "print(f\"Pre-Test Intervention group: mean {meanPreInter} standard deviation {stdDevPreInter}\")\n",
    "print(f\"Post-Test Intervention group: mean {meanPostInter} standard deviation {stdDevPostInter}\")\n",
    "print(f\"Pre-Test Control group: mean {meanPreCont} standard deviation {stdDevPreCont}\")\n",
    "print(f\"Post-Test Control group: mean {meanPostCont} standard deviation {stdDevPostCont}\")"
   ]
  },
  {
   "cell_type": "markdown",
   "id": "f98eecb2",
   "metadata": {},
   "source": [
    "### Task 01.03\n",
    "\n",
    "Write python code to impute the missing values (that means: nan values) in the post test scores by the mean of the data. HOWEVER, the imputation should be done separately for the control and the intervention group."
   ]
  },
  {
   "cell_type": "code",
   "execution_count": 113,
   "id": "bc00cfc0",
   "metadata": {
    "ExecuteTime": {
     "end_time": "2023-11-02T21:08:42.671190500Z",
     "start_time": "2023-11-02T21:08:42.412636600Z"
    }
   },
   "outputs": [],
   "source": [
    "for student in Data:\n",
    "    if student[1] == 1:\n",
    "        if np.isnan(student[2]):\n",
    "            student[2] = meanPreInter\n",
    "        if np.isnan(student[3]):\n",
    "            student[3] = meanPostInter\n",
    "    else:\n",
    "        if np.isnan(student[2]):\n",
    "            student[2] = meanPreCont\n",
    "        if np.isnan(student[3]):\n",
    "            student[3] = meanPostCont"
   ]
  },
  {
   "cell_type": "markdown",
   "id": "6dc11501",
   "metadata": {},
   "source": [
    "## Data Visualization"
   ]
  },
  {
   "cell_type": "markdown",
   "id": "e14b18c1",
   "metadata": {},
   "source": [
    "### Task 01.04\n",
    "\n",
    "Display two scatter plots (via `matplotlib.pyplot.scatter`), one for the control group and one for the intervention group, with pre-test score on the x-axis and post-test score on the y-axis. Label the axis and give the plots titles. Interpret these plot: Do you believe that pre- and post-test score correlate?"
   ]
  },
  {
   "cell_type": "code",
   "execution_count": 114,
   "id": "73d743b5",
   "metadata": {
    "ExecuteTime": {
     "end_time": "2023-11-02T21:08:43.167045300Z",
     "start_time": "2023-11-02T21:08:42.549734100Z"
    }
   },
   "outputs": [
    {
     "data": {
      "text/plain": "<Figure size 640x480 with 1 Axes>",
      "image/png": "[encoded data removed]"
     },
     "metadata": {},
     "output_type": "display_data"
    },
    {
     "data": {
      "text/plain": "<Figure size 640x480 with 1 Axes>",
      "image/png": "[encoded data removed]"
     },
     "metadata": {},
     "output_type": "display_data"
    },
    {
     "data": {
      "text/plain": "'\\nYes, there is an obvious correlation between the pre- and post-test scores, as one can clearly see that the post-test scores were higher for the students who had higher pre-test scores.\\n'"
     },
     "execution_count": 114,
     "metadata": {},
     "output_type": "execute_result"
    }
   ],
   "source": [
    "scoresPreInter = []\n",
    "scoresPostInter = []\n",
    "scoresPreCont = []\n",
    "scoresPostCont = []\n",
    "\n",
    "for student in Data:\n",
    "    if student[1] == 1:\n",
    "        scoresPreInter.append(student[2])\n",
    "        scoresPostInter.append(student[3])\n",
    "    else:\n",
    "        scoresPreCont.append(student[2])\n",
    "        scoresPostCont.append(student[3])\n",
    "        \n",
    "\n",
    "plt.figure(1)\n",
    "plt.scatter(scoresPreInter, scoresPostInter, label='Intervention Group')\n",
    "plt.xlabel('Pre-Test Scores')\n",
    "plt.ylabel('Post-Test Scores')\n",
    "plt.title('Intervention Group')\n",
    "\n",
    "plt.figure(2)\n",
    "plt.scatter(scoresPreCont, scoresPostCont, label='Control Group')\n",
    "plt.xlabel('Pre-Test Scores')\n",
    "plt.ylabel('Post-Test Scores')\n",
    "plt.title('Control Group')\n",
    "\n",
    "plt.show()\n",
    "\n",
    "'''\n",
    "Yes, there is an obvious correlation between the pre- and post-test scores, as one can clearly see that the post-test scores were higher for the students who had higher pre-test scores.\n",
    "'''"
   ]
  },
  {
   "cell_type": "markdown",
   "id": "6fde7831",
   "metadata": {},
   "source": [
    "Yes, I believe that pre- and post-test scores correlate because post-test scores tend to be higher when pre-test scores are higher and vice versa."
   ]
  },
  {
   "cell_type": "markdown",
   "id": "cb85469c",
   "metadata": {},
   "source": [
    "### Task 01.05\n",
    "\n",
    "Display a bar plot with four bars (with error bars): pre-test mean (and standard error) for control and intervention group; and post-test mean (with standard error) for control and intervention group. Label the axes. Interpret this plot: Where are significant differences, do you think? What is your explanation for these differences?"
   ]
  },
  {
   "cell_type": "code",
   "execution_count": 115,
   "id": "b449f058",
   "metadata": {
    "ExecuteTime": {
     "end_time": "2023-11-02T21:08:43.376496Z",
     "start_time": "2023-11-02T21:08:43.163049500Z"
    }
   },
   "outputs": [
    {
     "data": {
      "text/plain": "<Figure size 640x480 with 1 Axes>",
      "image/png": "[encoded data removed]"
     },
     "metadata": {},
     "output_type": "display_data"
    },
    {
     "data": {
      "text/plain": "'\\nA significant difference is between the post scores of both groups. There one can clearly see an increase for the Intervention group. This might be cause by the method used on the student.\\n'"
     },
     "execution_count": 115,
     "metadata": {},
     "output_type": "execute_result"
    }
   ],
   "source": [
    "plt.figure(3)\n",
    "plt.bar('Pre-Test Inter.', meanPreInter, yerr=stdDevPreInter, capsize=5)\n",
    "plt.bar('Post-Test Inter.', meanPostInter, yerr=stdDevPostInter, capsize=5)\n",
    "plt.bar('Pre-Test Cont.', meanPreCont, yerr=stdDevPreCont, capsize=5)\n",
    "plt.bar('Post-Test Cont.', meanPostCont, yerr=stdDevPostCont, capsize=5)\n",
    "plt.title('Test Score Means')\n",
    "plt.show()\n",
    "\n",
    "'''\n",
    "A significant difference is between the post scores of both groups. There one can clearly see an increase for the Intervention group. This might be cause by the method used on the student.\n",
    "'''"
   ]
  },
  {
   "cell_type": "markdown",
   "id": "02752dcc",
   "metadata": {},
   "source": [
    "I think control pre and intervention pre do not differ.\n",
    "control post is higher than both control pre and intervention pre because the students learned something between pre- and post-test.\n",
    "intervention post is even higher than control post because students learned more in the intervention than in the control condition.\n",
    "\n"
   ]
  },
  {
   "cell_type": "markdown",
   "id": "96c8b00a",
   "metadata": {},
   "source": [
    "### Task 01.06\n",
    "\n",
    "Display a bar plot with two bars (with error bars): the difference between post- and pre-test score for the control group (with standard error) and for the intervention group (with standard error). Label the axes. Interpret this plot: Do you think the difference of post- and pre-test scores significantly differs between control and intervention group?"
   ]
  },
  {
   "cell_type": "code",
   "execution_count": 116,
   "id": "95af15e3",
   "metadata": {
    "ExecuteTime": {
     "end_time": "2023-11-02T21:08:43.564075100Z",
     "start_time": "2023-11-02T21:08:43.352520300Z"
    }
   },
   "outputs": [
    {
     "data": {
      "text/plain": "<Figure size 640x480 with 1 Axes>",
      "image/png": "[encoded data removed]"
     },
     "metadata": {},
     "output_type": "display_data"
    },
    {
     "data": {
      "text/plain": "'\\nYes, I do think there is a significant difference between those two, since they are both outside each other standard deviation.\\n'"
     },
     "execution_count": 116,
     "metadata": {},
     "output_type": "execute_result"
    }
   ],
   "source": [
    "diffInter = []\n",
    "diffCont = []\n",
    "\n",
    "meanDiffInter = meanPostInter - meanPreInter\n",
    "meanDiffCont = meanPostCont - meanPreCont\n",
    "stdDevDiffInter = 0.\n",
    "stdDevDiffCont = 0.\n",
    "\n",
    "\n",
    "#Calculating standard deviations of the mean of the differences\n",
    "for i in range(0, numberIntervention):\n",
    "    diffInter.append(scoresPostInter[i] - scoresPreInter[i])\n",
    "    stdDevDiffInter += (scoresPostInter[i] - scoresPreInter[i] - meanDiffInter) ** 2\n",
    "    \n",
    "stdDevDiffInter = np.sqrt(stdDevDiffInter / numberIntervention)\n",
    "\n",
    "for i in range(0, numberControl):\n",
    "    diffCont.append(scoresPostCont[i] - scoresPreCont[i])\n",
    "    stdDevDiffCont += (scoresPostCont[i] - scoresPreCont[i] - meanDiffCont) ** 2\n",
    "\n",
    "stdDevDiffCont = np.sqrt(stdDevDiffCont / numberControl)\n",
    "\n",
    "\n",
    "plt.figure(3)\n",
    "plt.bar('Intervention Group', meanDiffInter, yerr=stdDevDiffInter, capsize=5)\n",
    "plt.bar('Control Group',meanDiffCont, yerr=stdDevDiffCont, capsize=5)\n",
    "plt.title('Test Score Mean Difference Pre and Post')\n",
    "plt.show()\n",
    "\n",
    "'''\n",
    "Yes, I do think there is a significant difference between those two, since they are both outside each other standard deviation.\n",
    "'''"
   ]
  },
  {
   "cell_type": "markdown",
   "id": "3886ad85",
   "metadata": {},
   "source": [
    "Yes, I think the score difference is significantly higher in the intervention group."
   ]
  },
  {
   "cell_type": "markdown",
   "id": "296e5b5e",
   "metadata": {},
   "source": [
    "### Task 01.07 (Bonus task)\n",
    "\n",
    "Display a box plot with four boxes: pre-test results in the control and intervention group, and post-test results in the control and intervention group. Label the axes."
   ]
  },
  {
   "cell_type": "code",
   "execution_count": 117,
   "id": "7d6ec57c",
   "metadata": {
    "ExecuteTime": {
     "end_time": "2023-11-02T21:08:43.862998Z",
     "start_time": "2023-11-02T21:08:43.506114600Z"
    }
   },
   "outputs": [
    {
     "data": {
      "text/plain": "<Figure size 640x480 with 1 Axes>",
      "image/png": "[encoded data removed]"
     },
     "metadata": {},
     "output_type": "display_data"
    }
   ],
   "source": [
    "box_data = [scoresPreInter, scoresPostInter, scoresPreCont, scoresPostCont]\n",
    "plt.figure(4)\n",
    "plt.boxplot(box_data)\n",
    "plt.ylabel('Test Scores')\n",
    "plt.xticks([1, 2, 3, 4], ['Pre Inter.', 'Post Inter.', 'Pre Contr.', 'Post Contr.'])\n",
    "\n",
    "plt.show()"
   ]
  },
  {
   "cell_type": "markdown",
   "id": "874ce4ea",
   "metadata": {},
   "source": [
    "### Task 01.08 (Bonus Task)\n",
    "\n",
    "Display a box plot with two boxes: difference between post-test and pre-test scores for the control group and the intervention group."
   ]
  },
  {
   "cell_type": "code",
   "execution_count": 118,
   "id": "084699cb",
   "metadata": {
    "ExecuteTime": {
     "end_time": "2023-11-02T21:08:44.044912700Z",
     "start_time": "2023-11-02T21:08:43.711926100Z"
    }
   },
   "outputs": [
    {
     "data": {
      "text/plain": "<Figure size 640x480 with 1 Axes>",
      "image/png": "[encoded data removed]"
     },
     "metadata": {},
     "output_type": "display_data"
    }
   ],
   "source": [
    "box_data_diff = [diffInter, diffCont]\n",
    "plt.figure(5)\n",
    "plt.boxplot(box_data_diff)\n",
    "plt.ylabel('Test Score Difference')\n",
    "plt.xticks([1, 2], ['Inter.', 'Contr.'])\n",
    "\n",
    "plt.show()"
   ]
  },
  {
   "cell_type": "markdown",
   "id": "6e4a6bbf",
   "metadata": {},
   "source": [
    "## Statistical Testing"
   ]
  },
  {
   "cell_type": "markdown",
   "id": "2679fdb5",
   "metadata": {},
   "source": [
    "### Task 01.09\n",
    "\n",
    "Write a python function to compute the Pearson correlation between two arrays of the same size."
   ]
  },
  {
   "cell_type": "code",
   "execution_count": 119,
   "id": "416d471f",
   "metadata": {
    "ExecuteTime": {
     "end_time": "2023-11-02T21:08:44.045910800Z",
     "start_time": "2023-11-02T21:08:43.927495600Z"
    }
   },
   "outputs": [],
   "source": [
    "def custom_pearson_correlation(data_x, data_y):\n",
    "    if not len(data_x) == len(data_y):\n",
    "        return 0\n",
    "    \n",
    "    correlation = 0.\n",
    "    mean_x = 0.\n",
    "    mean_y = 0.\n",
    "    std_dev_x = 0.\n",
    "    std_dev_y = 0.\n",
    "    length = len(data_x)\n",
    "    \n",
    "    for m in range(0, length):\n",
    "        mean_x += data_x[m]\n",
    "        mean_y += data_y[m]\n",
    "        \n",
    "    mean_x = mean_x / length\n",
    "    mean_y = mean_y / length\n",
    "    \n",
    "    for j in range(0, length):\n",
    "        std_dev_x += np.square(data_x[j] - mean_x)\n",
    "        std_dev_y += np.square(data_y[j] - mean_y)\n",
    "    \n",
    "    std_dev_x = np.sqrt(std_dev_x / length)\n",
    "    std_dev_y = np.sqrt(std_dev_y / length)\n",
    "    \n",
    "    for k in range(0, length):\n",
    "        correlation += ((data_x[k] - mean_x) / std_dev_x) * ((data_y[k] - mean_y) / std_dev_y)\n",
    "    \n",
    "    return correlation / length"
   ]
  },
  {
   "cell_type": "code",
   "execution_count": 119,
   "outputs": [],
   "source": [],
   "metadata": {
    "collapsed": false,
    "ExecuteTime": {
     "end_time": "2023-11-02T21:08:44.045910800Z",
     "start_time": "2023-11-02T21:08:43.965386500Z"
    }
   },
   "id": "b38dc8ad5803540b"
  },
  {
   "cell_type": "markdown",
   "id": "b451ceff",
   "metadata": {},
   "source": [
    "### Task 01.10\n",
    "\n",
    "Use your function to compute the Pearson correlation between pre-test and post-test scores for both control and intervention condition and print the scores.\n",
    "\n",
    "Interpret the strength of the correlation using the following rule of thumb from [Mukaka (2012)](https://www.ajol.info/index.php/mmj/article/download/81576/71739):\n",
    "\n",
    "* A correlation of $0.3 < |r| \\leq 0.5$ is considered small.\n",
    "* A correlation of $0.5 < |r| \\leq 0.7$ is considered moderate.\n",
    "* A correlation of $0.7 < |r| \\leq 0.9$ is considered high.\n",
    "* A correlation of $0.9 < |r| \\leq 1.0$ is considered very high."
   ]
  },
  {
   "cell_type": "code",
   "execution_count": 120,
   "id": "95846faa",
   "metadata": {
    "ExecuteTime": {
     "end_time": "2023-11-02T21:08:44.220474300Z",
     "start_time": "2023-11-02T21:08:43.968386500Z"
    }
   },
   "outputs": [
    {
     "name": "stdout",
     "output_type": "stream",
     "text": [
      "The Pearson correlation between the pre-and post-test scores in the intervention group is 0.837840086591938\n",
      "The Pearson correlation between the pre-and post-test scores in the control group is 0.8332611589015754\n"
     ]
    },
    {
     "data": {
      "text/plain": "'\\nIn both cases can the correlation be consider as high.\\n'"
     },
     "execution_count": 120,
     "metadata": {},
     "output_type": "execute_result"
    }
   ],
   "source": [
    "custom_pearson_corr_inter = custom_pearson_correlation(scoresPreInter, scoresPostInter)\n",
    "custom_pearson_corr_contr = custom_pearson_correlation(scoresPreCont, scoresPostCont)\n",
    "\n",
    "print(f'The Pearson correlation between the pre-and post-test scores in the intervention group is {custom_pearson_corr_inter}')\n",
    "print(f'The Pearson correlation between the pre-and post-test scores in the control group is {custom_pearson_corr_contr}')\n",
    "\n",
    "'''\n",
    "In both cases can the correlation be consider as high.\n",
    "'''"
   ]
  },
  {
   "cell_type": "markdown",
   "id": "22259ca3",
   "metadata": {},
   "source": [
    "Validate your scores by computing the Pearson correlation again with `scipy.stats.pearsonr`. Print both `r` and the `p` value returned by the function for both the control and the intervention condition. Are the correlations statistically significant at $0.01$ level?"
   ]
  },
  {
   "cell_type": "code",
   "execution_count": 121,
   "id": "dce1a401",
   "metadata": {
    "ExecuteTime": {
     "end_time": "2023-11-02T21:08:44.246869900Z",
     "start_time": "2023-11-02T21:08:44.102631600Z"
    }
   },
   "outputs": [
    {
     "name": "stdout",
     "output_type": "stream",
     "text": [
      "0.837840086591938\n",
      "1.4299228500380579e-08\n",
      "0.8332611589015756\n",
      "3.726448859366983e-08\n"
     ]
    },
    {
     "data": {
      "text/plain": "'\\nYes. both correlations are statistically significant since both their p-values are way below 0.01.\\n'"
     },
     "execution_count": 121,
     "metadata": {},
     "output_type": "execute_result"
    }
   ],
   "source": [
    "inter_corr, inter_p_value = scipy.stats.pearsonr(scoresPreInter, scoresPostInter)\n",
    "contr_corr, contr_p_value = scipy.stats.pearsonr(scoresPreCont, scoresPostCont)\n",
    "print(inter_corr)\n",
    "print(inter_p_value)\n",
    "print(contr_corr)\n",
    "print(contr_p_value)\n",
    "\n",
    "'''\n",
    "Yes. both correlations are statistically significant since both their p-values are way below 0.01.\n",
    "'''"
   ]
  },
  {
   "cell_type": "markdown",
   "id": "8a73b160",
   "metadata": {},
   "source": [
    "### Task 01.11\n",
    "\n",
    "Write a python function that performs a Welch $t$-test. In particular, your function should:\n",
    "1. compute the number of data points, the mean, and the standard deviation of both samples (use the `ddof = 1` parameter for the `np.std` function).\n",
    "2. compute the pooled standard deviation as\n",
    "\\begin{equation}\n",
    "\\sigma_\\text{pooled} = \\sqrt{\\frac{\\sigma_x^2}{n_x} + \\frac{\\sigma_y^2}{n_y}}\n",
    "\\end{equation}\n",
    "  where $n_x$ and $n_y$ are the number of data points in the two samples and $\\sigma_x$ and $\\sigma_y$ are the respective standard deviations.\n",
    "3. compute the $t$-statistic as \n",
    "\\begin{equation}\n",
    "t = -\\Big|\\frac{\\mu_x - \\mu_y}{\\sigma_\\text{pooled}}\\Big|\n",
    "\\end{equation}\n",
    "  where $\\mu_x$ and $\\mu_y$ are the means of the two samples.\n",
    "4. compute the number of degree of freedom via the Welch-Satterthwaite equation, meaning:\n",
    "\\begin{equation}\n",
    "\\text{df} = \\frac{\\sigma_\\text{pooled}^4}{\\frac{\\sigma_x^4}{n_x^2\\cdot(n_x - 1)} + \\frac{\\sigma_y^4}{n_y^2\\cdot(n_y - 1)}}\n",
    "\\end{equation}\n",
    "5. compute $p$ as twice the probability of any $t$ value equal or smaller to your value using the `cdf` function of `scipy.stats.t` with the number of freedoms as computed in the previous step.\n",
    "\n",
    "Your function should return both $t$ and $p$."
   ]
  },
  {
   "cell_type": "code",
   "execution_count": 122,
   "id": "93892529",
   "metadata": {
    "ExecuteTime": {
     "end_time": "2023-11-02T21:08:44.388702500Z",
     "start_time": "2023-11-02T21:08:44.248868Z"
    }
   },
   "outputs": [],
   "source": [
    "def custom_welch(data_x, data_y):\n",
    "    size_x = 0.\n",
    "    size_y = 0.\n",
    "    mean_x = 0.\n",
    "    mean_y = 0.\n",
    "    std_dev_x = 0.\n",
    "    std_dev_y = 0.\n",
    "    \n",
    "    \n",
    "    #Calculate respective means\n",
    "    for x in data_x:\n",
    "        size_x += 1.\n",
    "        mean_x += x\n",
    "    \n",
    "    mean_x = mean_x / size_x\n",
    "    \n",
    "    for y in data_y:\n",
    "        size_y += 1\n",
    "        mean_y += y\n",
    "    \n",
    "    mean_y = mean_y / size_y\n",
    "    \n",
    "    \n",
    "    #Calculate standard deviation\n",
    "    for x in data_x:\n",
    "        std_dev_x += np.square(x - mean_x)\n",
    "    \n",
    "    std_dev_x = np.sqrt(std_dev_x / size_x)\n",
    "    \n",
    "    for y in data_y:\n",
    "        std_dev_y += np.square(y - mean_y)\n",
    "    \n",
    "    std_dev_y = np.sqrt(std_dev_y / size_y)\n",
    "    \n",
    "    \n",
    "    #Calculate values\n",
    "    sigma = np.sqrt(np.square(std_dev_x) / size_x + np.square(std_dev_y) / size_y)\n",
    "    t_value = - abs((mean_x - mean_y) / sigma)\n",
    "    df = sigma ** 4 / (std_dev_x ** 4 / (size_x ** 2 * (size_x - 1)) + (std_dev_y ** 4 / (size_y ** 2 * (size_y - 1))))\n",
    "    p_value = 2 * scipy.stats.t.cdf(t_value, df)\n",
    "    \n",
    "    return t_value, p_value"
   ]
  },
  {
   "cell_type": "markdown",
   "id": "da322421",
   "metadata": {},
   "source": [
    "### Task 01.12\n",
    "\n",
    "Write python code to perform the following Welch tests (using your function):\n",
    "1. the pre-test scores in the control versus the intervention condition\n",
    "2. the post-test scores in the control versus the intervention condition\n",
    "3. the differences between post- and pre-test scores in the control versus the intervention condition\n",
    "\n",
    "For each of the tests, print the $t$ and $p$.\n",
    "\n",
    "Which of the test results are significant at a $0.01$-level?\n",
    "\n",
    "**Hint:** You can validate that your function returns the correct $t$ and $p$ values by comparing to the output of the function `scipy.stats.ttest_ind` with `equal_var = False`."
   ]
  },
  {
   "cell_type": "code",
   "execution_count": 123,
   "id": "0b752429",
   "metadata": {
    "ExecuteTime": {
     "end_time": "2023-11-02T21:08:44.503932800Z",
     "start_time": "2023-11-02T21:08:44.390694500Z"
    }
   },
   "outputs": [
    {
     "name": "stdout",
     "output_type": "stream",
     "text": [
      "The t-value for the pre-test is -0.07513803617898798 and the p-value is 0.9403799093554617\n",
      "The t-value for the post-test is -4.473237788533329 and the p-value is 3.929589504745583e-05\n",
      "The t-value for the differences is -7.450013256358262 and the p-value is 7.096056118224658e-10\n"
     ]
    },
    {
     "data": {
      "text/plain": "'\\nThe post-test results are significant at a 0.01-level.\\n'"
     },
     "execution_count": 123,
     "metadata": {},
     "output_type": "execute_result"
    }
   ],
   "source": [
    "welch_t_pre, welch_p_pre = custom_welch(scoresPreCont, scoresPreInter)\n",
    "welch_t_post, welch_p_post = custom_welch(scoresPostCont, scoresPostInter)\n",
    "welch_t_diff, welch_p_diff = custom_welch(diffCont, diffInter)\n",
    "\n",
    "print(f'The t-value for the pre-test is {welch_t_pre} and the p-value is {welch_p_pre}')\n",
    "print(f'The t-value for the post-test is {welch_t_post} and the p-value is {welch_p_post}')\n",
    "print(f'The t-value for the differences is {welch_t_diff} and the p-value is {welch_p_diff}')\n",
    "\n",
    "'''\n",
    "The post-test results are significant at a 0.01-level.\n",
    "'''"
   ]
  },
  {
   "cell_type": "markdown",
   "id": "90cfc77a",
   "metadata": {},
   "source": [
    "### Task 01.13\n",
    "\n",
    "Compute the effect sizes for the difference in post-test minus pre-test score between control and intervention condition using the formula\n",
    "\n",
    "\\begin{equation}\n",
    "d = \\frac{|\\mu_x - \\mu_y|}{\\sqrt{\\frac{1}{2}(\\sigma_x^2 + \\sigma_y^2)}}\n",
    "\\end{equation}\n",
    "\n",
    "where $\\mu_x$ and $\\mu_y$ are the mean score difference in intervention and control condition and $\\sigma_x$ and $\\sigma_y$ are the respective standard deviations.\n",
    "\n",
    "Print the effect size and interpret the size of the effect using the following rule of thumb (by [Sawilowsky (2009)](https://digitalcommons.wayne.edu/cgi/viewcontent.cgi?article=1536&context=jmasm))\n",
    "* An effect of size $0.01 < d \\leq 0.2$ is considered very small.\n",
    "* An effect of size $0.2 < d \\leq 0.5$ is considered small.\n",
    "* An effect of size $0.5 < d \\leq 0.8$ is considered moderate.\n",
    "* An effect of size $0.8 < d \\leq 1.2$ is considered large.\n",
    "* An effect of size $1.2 < d \\leq 2.0$ is considered very large.\n",
    "* An effect of size $d > 2.0$ is considered huge."
   ]
  },
  {
   "cell_type": "code",
   "execution_count": 124,
   "id": "132d8c01",
   "metadata": {
    "ExecuteTime": {
     "end_time": "2023-11-02T21:08:44.639642400Z",
     "start_time": "2023-11-02T21:08:44.505930400Z"
    }
   },
   "outputs": [
    {
     "name": "stdout",
     "output_type": "stream",
     "text": [
      "The effectsize is 1.9720423435973942, meaning the intervention had a large effect on the results\n"
     ]
    }
   ],
   "source": [
    "d = abs(meanDiffInter - meanDiffCont) / np.sqrt((stdDevDiffInter ** 2 + stdDevDiffCont ** 2) / 2)\n",
    "print(f'The effectsize is {d}, meaning the intervention had a large effect on the results')"
   ]
  },
  {
   "cell_type": "markdown",
   "id": "0ee25242",
   "metadata": {},
   "source": [
    "### Task 01.14 (Bonus Task)\n",
    "\n",
    "Write python code that uses the wilcoxon sign rank test (via `scipy.stats.wilcoxon`) to check whether the post-test scores in the control condition are significantly different from the pre-test scores. Repeat the same analysis for the intervention condition."
   ]
  },
  {
   "cell_type": "code",
   "execution_count": 125,
   "id": "8fa61be4",
   "metadata": {
    "ExecuteTime": {
     "end_time": "2023-11-02T21:08:44.728436600Z",
     "start_time": "2023-11-02T21:08:44.637644500Z"
    }
   },
   "outputs": [
    {
     "name": "stdout",
     "output_type": "stream",
     "text": [
      "The w-stat for the intervention Group is 0.0 with a p-value of 3.725290298461914e-09\n",
      "The w-stat for the control Group is 0.0 with a p-value of 7.450580596923828e-09\n"
     ]
    }
   ],
   "source": [
    "w_stat_inter, p_value_wilc_inter = scipy.stats.wilcoxon(scoresPreInter, scoresPostInter)\n",
    "w_stat_contr, p_value_wilc_contr = scipy.stats.wilcoxon(scoresPreCont, scoresPostCont)\n",
    "\n",
    "print(f'The w-stat for the intervention Group is {w_stat_inter} with a p-value of {p_value_wilc_inter}')\n",
    "print(f'The w-stat for the control Group is {w_stat_contr} with a p-value of {p_value_wilc_contr}')"
   ]
  },
  {
   "cell_type": "markdown",
   "id": "86c1e04e",
   "metadata": {},
   "source": [
    "## Probabilistic Modeling\n",
    "\n",
    "Let's assume that a student does a test in which they can achieve a certain number of points in the real numbers. Further, assume that the number of points achieved is generated from a Gaussian distribution with standard deviation $\\sigma$. However, the mean of the distribution depends on whether the student has understood the topic or not."
   ]
  },
  {
   "cell_type": "markdown",
   "id": "9cfcecc0",
   "metadata": {},
   "source": [
    "### Task 01.15\n",
    "\n",
    "Formalize this scenario. In particular:\n",
    "1. Model a random variable $Z$ that indicates whether the student understood the topic or not. What is the domain? What is the probability mass function $p_Z$? What are the parameters of this function?\n",
    "2. Model a random variable $X$ for the number of points the student achieves on the test. What is the conditional probability density function $p_{X|Z}$? What are the parameters of this function?"
   ]
  },
  {
   "cell_type": "markdown",
   "id": "7757c619",
   "metadata": {},
   "source": [
    "**ANSWER**\n",
    "*1.*\n",
    "$Z = \\{0,1\\}$ where 0 indicates that the student didn't understand the topic and 1 that they did.\n",
    "The probability function $p_Z$ tells us how likely it is for any given student to have understood the topic or not without further any information on the student.\n",
    "$p_Z(0) = p_0$ $p_Z(1) = p_1$\n",
    "*2.*\n",
    "Since the points are Gaussian distributed we get $X = \\mathbb{R}$. \n",
    "$p_{X|Z}$ is the probability of any given student to score a certain number of points given they either understood the topic or not.\n",
    "Since the points are Gaussian distributed wa also get the probability of any $x \\in X$ simply by calculating the formula for a Gaussian at point $x$ with the mean depending on whether the student has understood the topic or not.\n",
    "\\begin{math}\n",
    "p_{X|Z}(x \\in X|0) = \\frac{1}{\\sqrt{2\\pi\\sigma^2}} \\exp\\left(-\\frac{(x - \\mu_0)^2}{2\\sigma^2}\\right)\\\\\n",
    "p_{X|Z}(x \\in X|1) = \\frac{1}{\\sqrt{2\\pi\\sigma^2}} \\exp\\left(-\\frac{(x - \\mu_1)^2}{2\\sigma^2}\\right)\n",
    "\\end{math}  \n",
    "Where $\\mu_0$ is the mean for students who have not understood the topic and $\\mu_1$ for those who did.                          "
   ]
  },
  {
   "cell_type": "markdown",
   "id": "0540b4aa",
   "metadata": {},
   "source": [
    "### Task 01.16\n",
    "\n",
    "Using Bayes' theorem and the law of total probability, compute the conditional probability mass $p_{Z|X}(1|x)$ for the student having understood the topic given their achieved number of points."
   ]
  },
  {
   "cell_type": "markdown",
   "id": "42722ba8",
   "metadata": {},
   "source": [
    "**ANSWER**\n",
    "\\begin{align}\n",
    "p_{Z|X}(1|x) &= p_{X|Z}(x|1) * p_Z(1) / p_X(x)\\\\\n",
    "&=  p_{X|Z}(x|1) * p_Z(1) / (p_{X|Z}(x|0) * p_Z(0) + p_{X|Z}(x|1) * p_Z(1))\n",
    "\\end{align}\n",
    "Now we just need to put in the equations for $p_{X|Z}(x|0)$ and $p_{X|Z}(x|1)$ we have determined in the previous step and calculate for any given $x$."
   ]
  },
  {
   "cell_type": "markdown",
   "id": "6195d94c",
   "metadata": {},
   "source": [
    "### Task 01.17\n",
    "\n",
    "Assume that the numbers $x_1, \\ldots, x_m \\in \\mathbb{R}$ are generated (independently) from a Gaussian with mean $\\mu$ and standard deviation $\\sigma$.\n",
    "\n",
    "1. What is the negative log likelihood of the data under this assumption?\n",
    "2. Prove that $\\mu$ and $\\sigma^2$ which minimize the negative log likelihood are exactly $\\mu = \\frac{1}{m} \\sum_{i=1}^m x_i$ and $\\sigma^2 = \\frac{1}{m} \\sum_{i=1}^m (x_i - \\mu)^2$. You may assume that the negative log likelihood is convex, in this case."
   ]
  },
  {
   "cell_type": "markdown",
   "id": "16e25d24",
   "metadata": {},
   "source": [
    "**ANSWER**\n",
    "*1.*\n",
    "\\begin{align*}\n",
    "-\\ln(x_i) &= -\\ln\\left( \\frac{1}{\\sqrt{2\\pi\\sigma^2}}\\exp\\left( -\\frac{(x_i - \\mu)^2}{2\\sigma^2} \\right) \\right)\\\\\n",
    "&= -\\ln\\left( \\frac{1}{\\sqrt{2\\pi}\\sigma}\\right) - \\ln\\left(\\exp\\left(-\\frac{(x_i -\\mu)^2}{2\\sigma^2}\\right)\\right)\\\\\n",
    "&= -\\ln(1) + \\ln(\\sqrt{2\\pi}\\sigma) + \\frac{(x_i - \\mu)^2}{2\\sigma^2}\\\\\n",
    "&= \\ln(\\sqrt{2\\pi}\\sigma) + \\frac{(x_i - \\mu)^2}{2\\sigma^2}\\\\\n",
    "-\\sum_{i=1}^m \\ln(x_i) &= \\sum_{i=1}^m \\left(\\ln(\\sqrt{2\\pi}\\sigma) + \\frac{(x_i - \\mu)^2}{2\\sigma^2}\\right)\\\\\n",
    "&= m \\cdot \\ln(\\sqrt{2\\pi}\\sigma) + \\frac{1}{\\sigma^2}\\sum_{i=1}^m \\frac{(x_i - \\mu)^2}{2}\\\\\n",
    "\\end{align*}\n",
    "To optimize in relation tu $\\mu$ one must derivative in relation to $\\mu$ and then equal that to zero. \n",
    "We don't need to check the second derivative since we can assume $\\ln()$ to be convex.\n",
    "\\begin{gather*}\n",
    "\\frac{\\mathrm{d}}{\\mathrm{d}\\mu}\\left(-\\sum_{i=1}^m \\ln(x_i)\\right) = 0\\\\\n",
    "\\Leftrightarrow \\frac{\\mathrm{d}}{\\mathrm{d}\\mu} \\left(m \\cdot \\ln(\\sqrt{2\\pi}\\sigma) + \\frac{1}{\\sigma^2}\\sum_{i=1}^m \\frac{(x_i - \\mu)^2}{2}\\right) = 0\\\\\n",
    "\\Leftrightarrow\\frac{1}{\\sigma^2}\\sum_{i=1}^m \\mu - x_i = 0\\\\\n",
    "\\Leftrightarrow m\\mu = \\sum_{i=1}^m x_i\\\\\n",
    "\\Leftrightarrow\\mu = \\frac{1}{m}\\sum_{i=1}^m x_i\n",
    "\\end{gather*}\n",
    "Same for $\\sigma$\n",
    "\\begin{gather*}\n",
    "\\frac{\\mathrm{d}}{\\mathrm{d}\\sigma}\\left(-\\sum_{i=1}^m \\ln(x_i)\\right) = 0\\\\\n",
    "\\Leftrightarrow \\frac{\\mathrm{d}}{\\mathrm{d}\\sigma}\\left( m \\cdot (\\ln(\\sqrt{2\\pi}) + \\ln(\\sigma)) + \\frac{1}{\\sigma^2}\\sum_{i=1}^m \\frac{(x_i - \\mu)^2}{2} \\right) = 0\\\\\n",
    "\\Leftrightarrow \\frac{m}{\\sigma} - \\frac{2}{\\sigma^3}\\sum_{i=1}^m \\frac{(x_i - \\mu)^2}{2} = 0\\\\\n",
    "\\Leftrightarrow \\frac{m}{\\sigma} = \\frac{1}{\\sigma^3}\\sum_{i=1}^m (x_i - \\mu)^2\\\\\n",
    "\\sigma^2 = \\frac{1}{m}\\sum_{i=1}^m (x_i - \\mu)^2\n",
    "\\end{gather*}"
   ]
  }
 ],
 "metadata": {
  "kernelspec": {
   "display_name": "Python 3 (ipykernel)",
   "language": "python",
   "name": "python3"
  },
  "language_info": {
   "codemirror_mode": {
    "name": "ipython",
    "version": 3
   },
   "file_extension": ".py",
   "mimetype": "text/x-python",
   "name": "python",
   "nbconvert_exporter": "python",
   "pygments_lexer": "ipython3",
   "version": "3.11.5"
  }
 },
 "nbformat": 4,
 "nbformat_minor": 5
}
